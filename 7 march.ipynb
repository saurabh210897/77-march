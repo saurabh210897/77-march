{
 "cells": [
  {
   "cell_type": "code",
   "execution_count": 19,
   "id": "23b9ca13-f96d-429f-a7d9-3de5201b562f",
   "metadata": {},
   "outputs": [],
   "source": [
    "# Q1. What are the three measures of central tendency?"
   ]
  },
  {
   "cell_type": "code",
   "execution_count": 2,
   "id": "79b1bf9d-a199-4ddd-a192-8c8e4493f337",
   "metadata": {},
   "outputs": [],
   "source": [
    "# The three measures of central tendency are:\n",
    "\n",
    "# Mean: It is calculated by adding up all the values in a dataset and then dividing by the total number of values. It is also known as the average.\n",
    "\n",
    "# Median: It is the middle value in a dataset when the values are arranged in order. If there is an even number of values, then the median is the average of the two middle values.\n",
    "\n",
    "# Mode: It is the value that appears most frequently in a dataset. If there is more than one value that appears most frequently, then there may be multiple modes."
   ]
  },
  {
   "cell_type": "code",
   "execution_count": null,
   "id": "3dc7baa7-cde3-4d45-9aca-569a739b46f5",
   "metadata": {},
   "outputs": [],
   "source": [
    "# Q2. What is the difference between the mean, median, and mode? How are they used to measure the \n",
    "# central tendency of a dataset?"
   ]
  },
  {
   "cell_type": "code",
   "execution_count": 3,
   "id": "6fad23c7-c4d9-4a8f-90bf-829c2cd7308b",
   "metadata": {},
   "outputs": [],
   "source": [
    "# The mean, median, and mode are three different measures of central tendency used to describe the typical or central value of a dataset. \n",
    "# The main differences between them are:\n",
    "\n",
    "# Mean: The mean is the arithmetic average of a dataset. It is calculated by adding up all the values in the dataset and then dividing by the total number of values. \n",
    "# The mean is sensitive to extreme values or outliers in a dataset.\n",
    "\n",
    "# Median: The median is the middle value in a dataset when the values are arranged in order. If there is an even number of values, then the median is the average of the two middle values.\n",
    "# The median is less sensitive to extreme values than the mean, making it a better measure of central tendency for skewed datasets.\n",
    "\n",
    "# Mode: The mode is the value that appears most frequently in a dataset. If there is more than one value that appears most frequently, then there may be multiple modes. \n",
    "# The mode is useful for describing the most common value or category in a dataset.\n",
    "\n",
    "# To measure the central tendency of a dataset, one or more of these measures can be used, depending on the nature of the dataset and the research question. \n",
    "# The mean is often used for datasets that have a normal or symmetric distribution, while the median is used for skewed distributions. The mode is commonly used for categorical data. \n",
    "# It's important to consider the characteristics of the dataset and the research question when selecting a measure of central tendency."
   ]
  },
  {
   "cell_type": "code",
   "execution_count": null,
   "id": "f866dcb2-bc24-400a-9147-2becead26bb8",
   "metadata": {},
   "outputs": [],
   "source": [
    "# Q3. Measure the three measures of central tendency for the given height data:\n",
    "\n",
    "#  [178,177,176,177,178.2,178,175,179,180,175,178.9,176.2,177,172.5,178,176.5]\n"
   ]
  },
  {
   "cell_type": "code",
   "execution_count": null,
   "id": "1facb870-49c1-4b4e-bb5b-6540735a99bd",
   "metadata": {},
   "outputs": [],
   "source": [
    "#  Here are the three measures of central tendency (mean, median, and mode) for the given height data:\n",
    "\n",
    "# Mean: To calculate the mean, we need to add up all the values in the dataset and then divide by the total number of values. In this case, the sum of the heights is:\n",
    "\n",
    "# 178 + 177 + 176 + 177 + 178.2 + 178 + 175 + 179 + 180 + 175 + 178.9 + 176.2 + 177 + 172.5 + 178 + 176.5 = 2827.3\n",
    "\n",
    "# There are 16 values in the dataset, so the mean height is:\n",
    "\n",
    "# 2827.3 / 16 = 176.70625\n",
    "\n",
    "# Therefore, the mean height is approximately 176.71 cm.\n",
    "\n",
    "# Median: To calculate the median, we need to arrange the values in order and then find the middle value. In this case, the ordered heights are:\n",
    "\n",
    "# 172.5, 175, 175, 176, 176.2, 176.5, 177, 177, 178, 178, 178, 178.2, 178.9, 179, 180\n",
    "\n",
    "# There are 16 values in the dataset, so the middle values are the 8th and 9th heights, which are both 177 cm. Therefore, the median height is 177 cm.\n",
    "\n",
    "# Mode: To calculate the mode, we need to find the value that appears most frequently in the dataset. In this case, the height 178 cm appears most frequently, occurring four times.\n",
    "# Therefore, the mode height is 178 cm.\n",
    "\n",
    "# So, the three measures of central tendency for the given height data are:\n",
    "\n",
    "# Mean: approximately 176.71 cm\n",
    "# Median: 177 cm\n",
    "# Mode: 178 cm"
   ]
  },
  {
   "cell_type": "code",
   "execution_count": 4,
   "id": "4329260b-1744-4a8f-a1af-46789fcd9c1a",
   "metadata": {},
   "outputs": [],
   "source": [
    "# Q4. Find the standard deviation for the given data:\n",
    "\n",
    "# [178,177,176,177,178.2,178,175,179,180,175,178.9,176.2,177,172.5,178,176.5]\n"
   ]
  },
  {
   "cell_type": "code",
   "execution_count": 5,
   "id": "92ebe2cf-cfec-4aa4-b31d-95bb9e421653",
   "metadata": {},
   "outputs": [],
   "source": [
    "# To calculate the standard deviation, you can follow these steps:\n",
    "\n",
    "# Calculate the mean of the dataset. We already calculated the mean in the previous question, which is approximately 176.71 cm.\n",
    "\n",
    "# Subtract the mean from each value in the dataset.\n",
    "\n",
    "# Square each of the differences.\n",
    "\n",
    "# Calculate the mean of the squared differences.\n",
    "\n",
    "# Take the square root of the mean of the squared differences to obtain the standard deviation.\n",
    "\n",
    "# Here are the calculations:\n",
    "\n",
    "# Value\t    Mean\t      Difference\t   Difference Squared\n",
    "# 178\t   176.71\t       1.29\t            1.6641\n",
    "# 177\t   176.71\t       0.29\t            0.0841\n",
    "# 176\t   176.71\t      -0.71\t            0.5041\n",
    "# 177\t   176.71\t       0.29\t            0.0841\n",
    "# 178.2  176.71            1.49\t            2.2201\n",
    "# 178\t   176.71\t       1.29\t            1.6641\n",
    "# 175\t   176.71\t       -1.71\t        2.9241\n",
    "# 179\t   176.71\t       2.29\t            5.2441\n",
    "# 180    176.71            3.29\t            10.8241\n",
    "# 175\t   176.71         -1.71\t            2.9241\n",
    "# 178.9\t176.71   \t      2.19\t               4.7961\n",
    "# 176.2\t176.71  \t      -0.51\t            0.2601\n",
    "# 177\t    176.71\t       0.29\t        0.0841\n",
    "# 172.5\t176.71\t          -4.21\t           17.7241\n",
    "# 178\t    176.71         1.29\t        1.6641\n",
    "# 176.5\t176.71\t           -0.21\t            0.0441\n",
    "# Total: 52.4619\n",
    "# There are 16 values in the dataset, so we divide the total of the squared differences by 16 to get the mean of the squared differences:\n",
    "\n",
    "# 52.4619 / 16 = 3.27887\n",
    "\n",
    "# Finally, we take the square root of the mean of the squared differences to obtain the standard deviation:\n",
    "\n",
    "# √3.27887 ≈ 1.81\n",
    "\n",
    "# Therefore, the standard deviation of the given height data is approximately 1.81 cm."
   ]
  },
  {
   "cell_type": "code",
   "execution_count": null,
   "id": "2c93e733-8ca5-4e01-91d7-d5b3a2391e47",
   "metadata": {},
   "outputs": [],
   "source": [
    "# Q5. How are measures of dispersion such as range, variance, and standard deviation used to describe \n",
    "# the spread of a dataset? Provide an example."
   ]
  },
  {
   "cell_type": "code",
   "execution_count": 6,
   "id": "9c6022b1-668d-450b-b5a8-95aa0d0954c3",
   "metadata": {},
   "outputs": [],
   "source": [
    "# Measures of dispersion, such as range, variance, and standard deviation, are used to describe the spread or variability of a dataset. \n",
    "# These measures help us understand how spread out the data points are from the central tendency measure, such as the mean or median.\n",
    "\n",
    "# For example, consider two datasets:\n",
    "\n",
    "# Dataset A: [1, 2, 3, 4, 5]\n",
    "# Dataset B: [1, 2, 3, 4, 100]\n",
    "\n",
    "# Both datasets have the same mean (3) and median (3), but they have different measures of dispersion.\n",
    "\n",
    "# Range: The range is the difference between the largest and smallest values in the dataset. The range of Dataset A is 4 (5 - 1), while the range of Dataset B is 99 (100 - 1). \n",
    "# Therefore, Dataset B has a larger range, indicating that the values are more spread out.\n",
    "\n",
    "# Variance: The variance measures how much the values in the dataset deviate from the mean. The variance of Dataset A is 2.5, while the variance of Dataset B is 1032.25. \n",
    "# Therefore, Dataset B has a larger variance, indicating that the values are more spread out.\n",
    "\n",
    "# Standard deviation: The standard deviation is the square root of the variance, and it measures the amount of dispersion or variability of the values in the dataset. \n",
    "# The standard deviation of Dataset A is approximately 1.58, while the standard deviation of Dataset B is approximately 32.14. \n",
    "# Therefore, Dataset B has a larger standard deviation, indicating that the values are more spread out.\n",
    "\n",
    "# In summary, measures of dispersion are used to describe how spread out the values are in a dataset. \n",
    "# The larger the range, variance, or standard deviation, the more spread out the data points are from the central tendency measure."
   ]
  },
  {
   "cell_type": "code",
   "execution_count": 1,
   "id": "8e51be08-db4e-42b2-ab0e-f2e7034a7146",
   "metadata": {},
   "outputs": [],
   "source": [
    "# Q6. What is a Venn diagram?"
   ]
  },
  {
   "cell_type": "code",
   "execution_count": 2,
   "id": "1d677a73-36ff-43a3-b895-f62227c5eeae",
   "metadata": {},
   "outputs": [],
   "source": [
    "# A Venn diagram is a graphical representation of the relationships between different sets of objects or groups. It is named after John Venn, a British logician and philosopher, \n",
    "# who introduced the concept in the late 19th century.\n",
    "\n",
    "# A Venn diagram consists of overlapping circles, each representing a set or group. \n",
    "# The overlapping parts of the circles show the common elements or characteristics shared by the sets. \n",
    "# The non-overlapping parts of the circles show the unique elements or characteristics of each set. \n",
    "# The size of the circles may vary based on the size of the set they represent.\n",
    "\n",
    "# Venn diagrams can be used to visually represent logical relationships between sets or groups, such as union, intersection, and difference. \n",
    "# They are commonly used in mathematics, statistics, logic, and other fields to analyze and compare different data sets, and to help solve problems that involve multiple sets of data."
   ]
  },
  {
   "cell_type": "code",
   "execution_count": 4,
   "id": "e8a86bc4-b7c8-49eb-a11c-2724415b5491",
   "metadata": {},
   "outputs": [],
   "source": [
    "# Q7. For the two given sets A = (2,3,4,5,6,7) & B = (0,2,6,8,10). Find:\n",
    "\n",
    "# (i) \tA B\n",
    "\n",
    "# (ii)\tA ⋃ B\n"
   ]
  },
  {
   "cell_type": "code",
   "execution_count": 5,
   "id": "a1ecdb4a-16d6-407a-8716-0e9c43f9ef48",
   "metadata": {},
   "outputs": [],
   "source": [
    "# A ∩ B = {2, 6}\n",
    "# A ∪ B = {0, 2, 3, 4, 5, 6, 7, 8, 10}"
   ]
  },
  {
   "cell_type": "code",
   "execution_count": 6,
   "id": "1b9fe517-5299-4869-a10d-348e729d8c60",
   "metadata": {},
   "outputs": [],
   "source": [
    "# Q8. What do you understand about skewness in data?"
   ]
  },
  {
   "cell_type": "code",
   "execution_count": 7,
   "id": "33ca5528-0d86-4b52-af42-8adf0390638f",
   "metadata": {},
   "outputs": [],
   "source": [
    "# Skewness is a statistical measure that describes the degree of asymmetry in a distribution of data. In other words, it measures how lopsided the distribution is.\n",
    "\n",
    "# A distribution is said to be symmetric if it looks the same on both sides of the center point. \n",
    "# A distribution is positively skewed if the tail on the right side of the center is longer or fatter than the tail on the left side, \n",
    "# while a distribution is negatively skewed if the tail on the left side of the center is longer or fatter than the tail on the right side.\n",
    "\n",
    "# Skewness can be calculated using different formulas, but the most commonly used measure of skewness is the Pearson's coefficient of skewness. This measure is calculated as:\n",
    "\n",
    "# Skewness = 3 x (Mean - Median) / Standard deviation\n",
    "\n",
    "# If the skewness is zero, it means that the distribution is perfectly symmetric. \n",
    "# A positive skewness value indicates a distribution that is skewed to the right, while a negative skewness value indicates a distribution that is skewed to the left.\n",
    "\n",
    "# Skewness is an important measure in data analysis because it can affect the interpretation of statistical analyses.\n",
    "# For example, if the data is positively skewed, the mean value may be higher than the median value, which can affect the interpretation of the central tendency of the data. \n",
    "# Skewed data can also affect the choice of statistical tests, as some tests may not be appropriate for skewed data"
   ]
  },
  {
   "cell_type": "code",
   "execution_count": 8,
   "id": "78304dde-5f49-41b5-a26b-19c696f61584",
   "metadata": {},
   "outputs": [],
   "source": [
    "# Q9. If a data is right skewed then what will be the position of median with respect to mean?"
   ]
  },
  {
   "cell_type": "code",
   "execution_count": 9,
   "id": "2323a9da-c84d-4a34-8da9-fa5c2dcfc86a",
   "metadata": {},
   "outputs": [],
   "source": [
    "# If a data is right skewed, it means that the tail on the right side of the distribution is longer or fatter than the tail on the left side. \n",
    "# In this case, the mean value will be larger than the median value. This is because the mean is influenced by extreme values in the tail, while the median is not.\n",
    "\n",
    "# To illustrate this, consider an example where we have the following dataset of 10 values:\n",
    "\n",
    "# 2, 4, 6, 8, 10, 12, 14, 16, 18, 20\n",
    "\n",
    "# The mean value of this dataset is:\n",
    "\n",
    "# Mean = (2+4+6+8+10+12+14+16+18+20)/10 = 10\n",
    "\n",
    "# The median value of this dataset is:\n",
    "\n",
    "# Median = (10+12)/2 = 11\n",
    "\n",
    "# In this example, we can see that the mean value (10) is smaller than the median value (11). \n",
    "# This is because the distribution is not skewed and the values on both sides of the center point are evenly balanced.\n",
    "\n",
    "# Now, let's consider another dataset that is right skewed, such as:\n",
    "\n",
    "# 2, 4, 6, 8, 10, 12, 14, 16, 18, 100\n",
    "\n",
    "# In this dataset, the tail on the right side is longer due to the extreme value of 100. The mean value of this dataset is:\n",
    "\n",
    "# Mean = (2+4+6+8+10+12+14+16+18+100)/10 = 18\n",
    "\n",
    "# The median value of this dataset is:\n",
    "\n",
    "# Median = (10+12)/2 = 11\n",
    "\n",
    "# In this example, we can see that the mean value (18) is larger than the median value (11), which is consistent with the fact that the distribution is right skewed."
   ]
  },
  {
   "cell_type": "code",
   "execution_count": 10,
   "id": "63481b44-9f42-4deb-a1f4-77d45f2feec1",
   "metadata": {},
   "outputs": [],
   "source": [
    "# Q10. Explain the difference between covariance and correlation. How are these measures used in \n",
    "# statistical analysis?"
   ]
  },
  {
   "cell_type": "code",
   "execution_count": 11,
   "id": "faad4def-2e36-4b72-bcc4-69f8186256a2",
   "metadata": {},
   "outputs": [],
   "source": [
    "# Covariance and correlation are two measures of the relationship between two variables in a dataset.\n",
    "\n",
    "# Covariance measures the degree to which two variables vary together. It is calculated as the sum of the products of the deviations of each value from its respective mean. \n",
    "# The formula for covariance is:\n",
    "\n",
    "# Cov(X,Y) = Σ [(X - mean(X)) * (Y - mean(Y))] / (n - 1)\n",
    "\n",
    "# Where X and Y are the two variables, Σ denotes the sum over all values, mean(X) and mean(Y) are the means of X and Y, respectively, and n is the number of data points.\n",
    "\n",
    "# Covariance can take on positive, negative, or zero values. A positive covariance indicates that when one variable is above its mean, \n",
    "# the other variable tends to be above its mean as well, and vice versa. A negative covariance indicates that when one variable is above its mean, \n",
    "# the other variable tends to be below its mean, and vice versa. A covariance of zero indicates that there is no relationship between the variables.\n",
    "\n",
    "# Correlation, on the other hand, measures the strength and direction of the linear relationship between two variables. \n",
    "# It is a standardized version of covariance that ranges between -1 and 1. The formula for correlation is:\n",
    "\n",
    "# Corr(X,Y) = Cov(X,Y) / (sd(X) * sd(Y))\n",
    "\n",
    "# Where Cov(X,Y) is the covariance between X and Y, and sd(X) and sd(Y) are the standard deviations of X and Y, respectively.\n",
    "\n",
    "# A correlation of 1 indicates a perfect positive linear relationship between the variables, a correlation of -1 indicates a perfect negative linear relationship between the variables, \n",
    "# and a correlation of 0 indicates no linear relationship between the variables. Correlation can be used to determine whether two variables are related, \n",
    "# and the strength and direction of that relationship.\n",
    "\n",
    "# In statistical analysis, both covariance and correlation are used to understand the relationship between two variables. \n",
    "# Covariance is used to determine the direction of the relationship between the variables, while correlation is used to determine the strength \n",
    "# and direction of the linear relationship between the variables. Correlation is more commonly used than covariance because it is standardized \n",
    "# and does not depend on the scale of the variables. It is also easier to interpret because it ranges between -1 and 1, \n",
    "# making it easier to compare relationships between different pairs of variables"
   ]
  },
  {
   "cell_type": "code",
   "execution_count": 12,
   "id": "86f10b54-fb70-418b-b6ec-9dd4ef38e1bb",
   "metadata": {},
   "outputs": [],
   "source": [
    "# Q11. What is the formula for calculating the sample mean? Provide an example calculation for a \n",
    "# dataset."
   ]
  },
  {
   "cell_type": "code",
   "execution_count": 13,
   "id": "066cae10-349c-4e85-9ec0-ac5a6e5bea4c",
   "metadata": {},
   "outputs": [],
   "source": [
    "# The formula for calculating the sample mean is:\n",
    "\n",
    "# Sample Mean = (Σ x) / n\n",
    "\n",
    "# Where Σ x represents the sum of all the values in the dataset, and n represents the number of values in the dataset.\n",
    "\n",
    "# Here is an example calculation for a dataset of 10 values:\n",
    "\n",
    "# Dataset: 4, 5, 6, 7, 8, 9, 10, 11, 12, 13\n",
    "\n",
    "# First, we add up all the values in the dataset:\n",
    "\n",
    "# Σ x = 4 + 5 + 6 + 7 + 8 + 9 + 10 + 11 + 12 + 13\n",
    "# = 85\n",
    "\n",
    "# Next, we divide the sum by the number of values in the dataset:\n",
    "\n",
    "# Sample Mean = Σ x / n\n",
    "# = 85 / 10\n",
    "# = 8.5\n",
    "\n",
    "# Therefore, the sample mean for this dataset is 8.5."
   ]
  },
  {
   "cell_type": "code",
   "execution_count": 14,
   "id": "e0550805-ab3c-478e-9d8f-de0aa03db8c7",
   "metadata": {},
   "outputs": [],
   "source": [
    "# Q12. For a normal distribution data what is the relationship between its measure of central tendency?"
   ]
  },
  {
   "cell_type": "code",
   "execution_count": 15,
   "id": "7b26bc9f-5adb-4ad0-b86f-57f4dc8ba51c",
   "metadata": {},
   "outputs": [],
   "source": [
    "# For a normal distribution, the three measures of central tendency, namely the mean, median, and mode, are equal. This is because a normal distribution is symmetric around its mean. \n",
    "# The mean is the arithmetic average of all the data points, while the median is the middle value of the data points when arranged in order. \n",
    "# The mode is the value that occurs most frequently in the dataset.\n",
    "\n",
    "# In a normal distribution, the mean is the most commonly used measure of central tendency. \n",
    "# This is because the mean is sensitive to all the data points and provides a good estimate of the central value of the distribution. \n",
    "# However, the median and mode can also be useful measures in certain situations, such as when dealing with skewed distributions where the mean may be influenced by extreme values.\n",
    "\n",
    "# Overall, for a normal distribution, the three measures of central tendency are all equal, which reflects the symmetry of the distribution around its mean."
   ]
  },
  {
   "cell_type": "code",
   "execution_count": 16,
   "id": "b90d8012-50fc-453b-a9d6-2c23368a960f",
   "metadata": {},
   "outputs": [],
   "source": [
    "# Q13. How is covariance different from correlation?"
   ]
  },
  {
   "cell_type": "code",
   "execution_count": 17,
   "id": "e0aa15ba-1a39-4c45-a126-82ed24701c8e",
   "metadata": {},
   "outputs": [],
   "source": [
    "# Covariance and correlation are two measures used to describe the relationship between two variables in a dataset.\n",
    "\n",
    "# Covariance measures the degree to which two variables vary together. It is calculated as the sum of the products of the deviations of each value from its respective mean. \n",
    "# A positive covariance indicates that when one variable is above its mean, the other variable tends to be above its mean as well, and vice versa.\n",
    "# A negative covariance indicates that when one variable is above its mean, the other variable tends to be below its mean, and vice versa. \n",
    "# A covariance of zero indicates that there is no relationship between the variables. The formula for covariance is:\n",
    "\n",
    "# Cov(X,Y) = Σ [(X - mean(X)) * (Y - mean(Y))] / (n - 1)\n",
    "\n",
    "# Where X and Y are the two variables, Σ denotes the sum over all values, mean(X) and mean(Y) are the means of X and Y, respectively, and n is the number of data points.\n",
    "\n",
    "# Correlation, on the other hand, measures the strength and direction of the linear relationship between two variables. \n",
    "# It is a standardized version of covariance that ranges between -1 and 1. Correlation tells us how closely the data points cluster around a straight line. \n",
    "# A correlation of 1 indicates a perfect positive linear relationship between the variables, a correlation of -1 indicates a perfect negative linear relationship between the variables, \n",
    "# and a correlation of 0 indicates no linear relationship between the variables. The formula for correlation is:\n",
    "\n",
    "# Corr(X,Y) = Cov(X,Y) / (sd(X) * sd(Y))\n",
    "\n",
    "# Where Cov(X,Y) is the covariance between X and Y, and sd(X) and sd(Y) are the standard deviations of X and Y, respectively.\n",
    "\n",
    "# In summary, covariance measures the degree to which two variables vary together, while correlation measures the strength and direction of the linear relationship between the variables. \n",
    "# Correlation is a standardized version of covariance and ranges between -1 and 1, while covariance can take on any value, including negative, positive, or zero. \n",
    "# Correlation is preferred over covariance because it is not affected by the scales of the variables and is easier to interpret."
   ]
  },
  {
   "cell_type": "code",
   "execution_count": 18,
   "id": "699f1e8d-9e92-499a-a59d-78f5405f0f08",
   "metadata": {},
   "outputs": [],
   "source": [
    "# Q14. How do outliers affect measures of central tendency and dispersion? Provide an example."
   ]
  },
  {
   "cell_type": "code",
   "execution_count": null,
   "id": "7a7c7db6-0e91-4c70-96db-ffdcc9f29148",
   "metadata": {},
   "outputs": [],
   "source": [
    "# Outliers are data points that are significantly different from the other values in a dataset. Outliers can have a significant impact on measures of central tendency and dispersion.\n",
    "\n",
    "# For measures of central tendency, outliers can cause the mean to be skewed towards the direction of the outlier. This is because the mean is influenced by all the values in the dataset, \n",
    "# and an outlier can significantly increase or decrease the mean, depending on whether it is higher or lower than the other values. The median is less affected by outliers, \n",
    "# as it is the middle value of the dataset and is not influenced by extreme values. The mode is also less affected by outliers, \n",
    "# as it represents the most frequently occurring value in the dataset.\n",
    "\n",
    "# For measures of dispersion, outliers can cause the range, variance, and standard deviation to be larger than they would be if the outlier was not present. \n",
    "# The range is the difference between the maximum and minimum values in the dataset, and an outlier can increase the range by a significant amount. \n",
    "# The variance and standard deviation are measures of the spread of the data around the mean, and an outlier can increase the variability of the dataset.\n",
    "\n",
    "# Here is an example to illustrate the impact of outliers on measures of central tendency and dispersion:\n",
    "\n",
    "# Dataset: 2, 3, 4, 5, 6, 7, 8, 9, 10, 100\n",
    "\n",
    "# In this dataset, the value of 100 is an outlier. Here are the measures of central tendency and dispersion for this dataset:\n",
    "\n",
    "# Mean: (2+3+4+5+6+7+8+9+10+100)/10 = 15.4\n",
    "# Median: 6.5\n",
    "# Mode: There is no mode as no value appears more than once.\n",
    "\n",
    "# Range: 100 - 2 = 98\n",
    "# Variance: 931.6\n",
    "# Standard deviation: 30.5\n",
    "\n",
    "# As we can see, the mean is significantly larger than the median, which is an indication that the outlier is pulling the mean towards the higher end. \n",
    "# Additionally, the range, variance, and standard deviation are larger than they would be if the outlier was not present. \n",
    "# Therefore, outliers can have a significant impact on measures of central tendency and dispersion, and it is important to identify and address them appropriately."
   ]
  }
 ],
 "metadata": {
  "kernelspec": {
   "display_name": "Python 3 (ipykernel)",
   "language": "python",
   "name": "python3"
  },
  "language_info": {
   "codemirror_mode": {
    "name": "ipython",
    "version": 3
   },
   "file_extension": ".py",
   "mimetype": "text/x-python",
   "name": "python",
   "nbconvert_exporter": "python",
   "pygments_lexer": "ipython3",
   "version": "3.10.8"
  }
 },
 "nbformat": 4,
 "nbformat_minor": 5
}
